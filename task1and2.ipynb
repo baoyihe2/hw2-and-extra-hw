{
 "cells": [
  {
   "cell_type": "code",
   "execution_count": 1,
   "id": "52876b3f",
   "metadata": {},
   "outputs": [],
   "source": [
    "import mne\n",
    "import matplotlib.pyplot as plt\n",
    "import numpy as np\n",
    "import scipy.io"
   ]
  },
  {
   "cell_type": "code",
   "execution_count": 2,
   "id": "4fb6aaba",
   "metadata": {},
   "outputs": [],
   "source": [
    "import hdf5storage\n",
    "file_path = 'indy_20170131_02.mat'\n",
    "matfile = hdf5storage.loadmat(file_path)"
   ]
  },
  {
   "cell_type": "code",
   "execution_count": 3,
   "id": "7485e7fc",
   "metadata": {},
   "outputs": [],
   "source": [
    "pos_x=matfile['cursor_pos'][:,0]\n",
    "pos_y=matfile['cursor_pos'][:,1]\n"
   ]
  },
  {
   "cell_type": "code",
   "execution_count": 4,
   "id": "a8defaa0",
   "metadata": {},
   "outputs": [
    {
     "name": "stdout",
     "output_type": "stream",
     "text": [
      "[1675.38, 1676.404, 1677.504, 1678.592, 1681.892, 1684.176, 1686.236, 1688.824, 1692.612, 1693.564, 1696.028, 1698.256, 1700.524, 1702.824, 1705.256, 1708.264, 1709.252, 1713.836]\n"
     ]
    }
   ],
   "source": [
    "target_list=[]\n",
    "t_list=[]\n",
    "initial=matfile['target_pos'][0]\n",
    "positive=[]\n",
    "for t in range(0,10000):\n",
    "    if matfile['target_pos'][t][0]==initial[0] and matfile['target_pos'][t][1]==initial[1]:\n",
    "        continue\n",
    "    else:\n",
    "        target_list.append(matfile['t'][t][0])\n",
    "        t_list.append(t)\n",
    "        initial=matfile['target_pos'][t]\n",
    "for t1 in t_list:\n",
    "    if matfile['target_pos'][t1][0] > matfile['cursor_pos'][t1][0]:\n",
    "        positive.append(matfile['t'][t1][0])\n",
    "print(positive)    \n"
   ]
  },
  {
   "cell_type": "code",
   "execution_count": 5,
   "id": "aee2fc31",
   "metadata": {},
   "outputs": [
    {
     "name": "stdout",
     "output_type": "stream",
     "text": [
      "[[0.4289403676600614], [-0.019946052005025194, 0.02121833433466236, 0.04427858255871797, 0.15175654254335313, 0.21831587367091743, 0.29130586019755356, 0.36724493693736804, 0.5415279854576056, 0.5573383866569657], [0.2028028941217599, 0.23126980803886, 0.5185194011016847], [0.010548131510859093, 0.1865924424264449, 0.3180317612889212, 0.3557555420841254], [-0.008179248050055321, 0.25424883459095327, 0.367829773151243, 0.4183739052380133], [-0.005241592974471132, 0.20225968134764116], [0.22374404055767627, 0.3594021969709047, 0.3883196664580737], [], [0.0912960015855333, 0.18320931762423243, 0.2360062268303409], [0.08144845083779728, 0.24278826905629103, 0.3850818785517731, 0.5906990116479847], [0.12331510129865819, 0.5778436517987302], [0.11319488444542003, 0.135927455932233, 0.18102396259564557, 0.23488582104869238, 0.2697833903434912, 0.2997658088333992, 0.37103549221637877], [-0.030886627557038082, 0.41164076370364455, 0.4551808059791256], [-0.08560487932095384, 0.030433634092787543, 0.3054772691875769, 0.3962437165951087, 0.5867877208506798], [], [0.35164546949613396, 0.3869116748990109, 0.40968520578257994, 0.5457939171387807], [0.011216558082423944, 0.06978876923108146, 0.09559330996557946, 0.17112279033062805, 0.2532877244307201, 0.2890864043622514], []]\n"
     ]
    }
   ],
   "source": [
    "chosen_spike=matfile['spikes'][9][1].squeeze(1)\n",
    "trial_list=[]\n",
    "trial_sum=[]\n",
    "for t2 in positive:\n",
    "    t2_start=t2-0.1\n",
    "    t2_end=t2+0.6\n",
    "    trial=[]\n",
    "    for i in chosen_spike:\n",
    "        if i>t2_start and i<=t2_end:\n",
    "            trial.append(i-t2)\n",
    "            trial_sum.append(i-t2)\n",
    "    trial_list.append(trial)\n",
    "print(trial_list)"
   ]
  },
  {
   "cell_type": "code",
   "execution_count": 6,
   "id": "95e95398",
   "metadata": {},
   "outputs": [
    {
     "data": {
      "image/png": "[encoded data removed]",
      "text/plain": [
       "<Figure size 432x288 with 1 Axes>"
      ]
     },
     "metadata": {
      "needs_background": "light"
     },
     "output_type": "display_data"
    }
   ],
   "source": [
    "#raster图\n",
    "line_offset = np.array(range(0, 18, 1))\n",
    "plt.eventplot(trial_list, lineoffsets=line_offset, linelengths=0.5, colors='grey')\n",
    "plt.ylabel('Trials')\n",
    "plt.yticks(np.arange(0, 18))\n",
    "plt.grid(True, axis='y')\n",
    "plt.axvline(x=0.0, c='black', linestyle='--', linewidth = 1)\n",
    "plt.show()"
   ]
  },
  {
   "cell_type": "code",
   "execution_count": 7,
   "id": "9ba415ff",
   "metadata": {},
   "outputs": [
    {
     "data": {
      "image/png": "[encoded data removed]",
      "text/plain": [
       "<Figure size 432x288 with 1 Axes>"
      ]
     },
     "metadata": {
      "needs_background": "light"
     },
     "output_type": "display_data"
    }
   ],
   "source": [
    "#PSTH图\n",
    "import math\n",
    "frate_bin = np.array(np.zeros(35))\n",
    "trial_sum.sort()\n",
    "for t in trial_sum:\n",
    "    spike_bin_index = math.floor((t + 0.1)/0.02)\n",
    "    frate_bin[spike_bin_index] = frate_bin[spike_bin_index] + 1\n",
    "plt.bar(np.arange(-0.09, 0.61, 0.02), frate_bin, width = 0.016, color = 'grey')\n",
    "plt.xlabel('Time(s)')\n",
    "plt.ylabel('Firing Rate Per Second') \n",
    "plt.xticks(np.arange(-0.1, 0.7, 0.1))\n",
    "plt.yticks(np.arange(0, 10, 1))\n",
    "plt.grid(True, axis='y')\n",
    "plt.axvline(x=0.0, c='black', linestyle=':', linewidth = 1.5)\n",
    "\n",
    "plt.show()"
   ]
  },
  {
   "cell_type": "code",
   "execution_count": 35,
   "id": "a9779ba8",
   "metadata": {},
   "outputs": [
    {
     "data": {
      "text/plain": [
       "[<matplotlib.lines.Line2D at 0x1d18f5af8b0>]"
      ]
     },
     "execution_count": 35,
     "metadata": {},
     "output_type": "execute_result"
    },
    {
     "data": {
      "image/png": "[encoded data removed]",
      "text/plain": [
       "<Figure size 432x288 with 1 Axes>"
      ]
     },
     "metadata": {
      "needs_background": "light"
     },
     "output_type": "display_data"
    }
   ],
   "source": [
    "#tuning curve（速度）\n",
    "speed_bin = np.array(np.zeros(20))\n",
    "velocity_x = np.diff(pos_x)/0.004\n",
    "velocity_y = np.diff(pos_y)/0.004\n",
    "velocity=np.sqrt(velocity_x*velocity_x+velocity_y*velocity_y)\n",
    "a=matfile['t'].squeeze(1)\n",
    "v_list=[]\n",
    "for i in chosen_spike:\n",
    "    index = np.searchsorted(a, i, side=\"right\") - 1\n",
    "    v=velocity[index-1]\n",
    "    v_list.append(v)\n",
    "min_velocity=np.min(v_list)\n",
    "max_velocity=np.max(v_list)\n",
    "bin_width=(max_velocity-min_velocity)/20\n",
    "for j in v_list:\n",
    "    bin_index=np.floor((j - min_velocity) / bin_width).astype(int)\n",
    "    bin_index = np.clip(bin_index, 0, 19)\n",
    "    speed_bin[bin_index]=speed_bin[bin_index]+1\n",
    "\n",
    "speed_x=np.arange(min_velocity,max_velocity,bin_width)\n",
    "plt.plot(speed_x, speed_bin)"
   ]
  },
  {
   "cell_type": "code",
   "execution_count": 41,
   "id": "f109084a",
   "metadata": {},
   "outputs": [
    {
     "name": "stdout",
     "output_type": "stream",
     "text": [
      "r_squared =  0.3274766105899072\n"
     ]
    },
    {
     "data": {
      "text/plain": [
       "[<matplotlib.lines.Line2D at 0x1d1916b3eb0>]"
      ]
     },
     "execution_count": 41,
     "metadata": {},
     "output_type": "execute_result"
    },
    {
     "data": {
      "image/png": "[encoded data removed]",
      "text/plain": [
       "<Figure size 432x288 with 1 Axes>"
      ]
     },
     "metadata": {
      "needs_background": "light"
     },
     "output_type": "display_data"
    }
   ],
   "source": [
    "#神经元运动调制分析\n",
    "from sklearn.linear_model import LinearRegression\n",
    "from sklearn.metrics import r2_score\n",
    "X=speed_x.reshape(-1, 1)\n",
    "y=speed_bin\n",
    "model = LinearRegression()\n",
    "model.fit(X,y)\n",
    "y_pred = model.predict(X)\n",
    "r_2 = r2_score(y, y_pred)\n",
    "print(\"r_squared = \", r_2)\n",
    "plt.scatter(X, y, color='black', label='Actual Discharge ')\n",
    "plt.plot(X, y_pred, color='blue', linewidth=2, label='Predicted Discharge ')"
   ]
  },
  {
   "cell_type": "code",
   "execution_count": null,
   "id": "935c2e8f",
   "metadata": {},
   "outputs": [],
   "source": []
  }
 ],
 "metadata": {
  "kernelspec": {
   "display_name": "Python 3 (ipykernel)",
   "language": "python",
   "name": "python3"
  },
  "language_info": {
   "codemirror_mode": {
    "name": "ipython",
    "version": 3
   },
   "file_extension": ".py",
   "mimetype": "text/x-python",
   "name": "python",
   "nbconvert_exporter": "python",
   "pygments_lexer": "ipython3",
   "version": "3.9.12"
  }
 },
 "nbformat": 4,
 "nbformat_minor": 5
}
